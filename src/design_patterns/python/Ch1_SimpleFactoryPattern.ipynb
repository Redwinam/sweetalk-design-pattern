{
 "cells": [
  {
   "cell_type": "markdown",
   "metadata": {},
   "source": [
    "## 1 简单工厂模式（Simple Factory Pattern）\n",
    "author:SheltonXiao    \n",
    "2022/9/19"
   ]
  },
  {
   "cell_type": "markdown",
   "metadata": {},
   "source": [
    "### 1.1 面试受挫"
   ]
  },
  {
   "cell_type": "code",
   "execution_count": 1,
   "metadata": {},
   "outputs": [],
   "source": [
    "class Program(object):\n",
    "    def __init__(self):\n",
    "        A = input('请输入数字A：')\n",
    "        B = input('请选择运算符号（+、-、*、/）：')\n",
    "        C = input('请输入数字B：')\n",
    "        if B == \"+\":\n",
    "            D = str(float(A)+float(C))\n",
    "        elif B == \"-\":\n",
    "            D = str(float(A)-float(C))\n",
    "        elif B == \"*\":\n",
    "            D = str(float(A)*float(C))\n",
    "        elif B == \"/\":\n",
    "            D = str(float(A)/float(C))\n",
    "        print(\"结果是：\"+D)"
   ]
  },
  {
   "cell_type": "code",
   "execution_count": 2,
   "metadata": {},
   "outputs": [
    {
     "name": "stdout",
     "output_type": "stream",
     "text": [
      "结果是：25.0\n"
     ]
    },
    {
     "data": {
      "text/plain": [
       "<__main__.Program at 0x12fa5a21208>"
      ]
     },
     "execution_count": 2,
     "metadata": {},
     "output_type": "execute_result"
    }
   ],
   "source": [
    "Program()"
   ]
  },
  {
   "cell_type": "markdown",
   "metadata": {},
   "source": [
    "### 1.3 代码规范"
   ]
  },
  {
   "cell_type": "code",
   "execution_count": 3,
   "metadata": {},
   "outputs": [],
   "source": [
    "class Program(object):\n",
    "    def __init__(self):\n",
    "        try:\n",
    "            A = input('请输入数字A：')\n",
    "            B = input('请选择运算符号（+、-、*、/）：')\n",
    "            C = input('请输入数字B：')\n",
    "            if B == \"+\":\n",
    "                D = str(float(A)+float(C))\n",
    "            elif B == \"-\":\n",
    "                D = str(float(A)-float(C))\n",
    "            elif B == \"*\":\n",
    "                D = str(float(A)*float(C))\n",
    "            elif B == \"/\":\n",
    "                if float(C) != 0:\n",
    "                    D = str(float(A)/float(C))\n",
    "                else:\n",
    "                    raise Exception(\"除数不能为0\")\n",
    "            else:\n",
    "                raise Exception(\"运算符错误\")\n",
    "            print(\"结果是：\"+D)\n",
    "        except Exception as exp:\n",
    "            print(\"您的输入有错：\")\n",
    "            print(exp)"
   ]
  },
  {
   "cell_type": "code",
   "execution_count": 4,
   "metadata": {},
   "outputs": [
    {
     "name": "stdout",
     "output_type": "stream",
     "text": [
      "结果是：49.0\n"
     ]
    },
    {
     "data": {
      "text/plain": [
       "<__main__.Program at 0x12fa5a214e0>"
      ]
     },
     "execution_count": 4,
     "metadata": {},
     "output_type": "execute_result"
    }
   ],
   "source": [
    "Program()"
   ]
  },
  {
   "cell_type": "markdown",
   "metadata": {},
   "source": [
    "### 1.8 业务的封装"
   ]
  },
  {
   "cell_type": "code",
   "execution_count": null,
   "metadata": {},
   "outputs": [],
   "source": [
    "class Operation(object):\n",
    "    def calculate(self,numberA,numberB,operate):\n",
    "        if operate == \"+\":\n",
    "            result = numberA + numberB\n",
    "        elif operate == \"-\":\n",
    "            result = numberA - numberB\n",
    "        elif operate == \"*\":\n",
    "            result = numberA * numberB\n",
    "        elif operate == \"/\":\n",
    "            result = numberA / numberB\n",
    "        return result"
   ]
  },
  {
   "cell_type": "code",
   "execution_count": null,
   "metadata": {},
   "outputs": [
    {
     "name": "stdout",
     "output_type": "stream",
     "text": [
      "结果是：40.93802\n"
     ]
    }
   ],
   "source": [
    "try:\n",
    "    strNumberA = input('请输入数字A：')\n",
    "    operate = input('请选择运算符号（+、-、*、/）：')\n",
    "    strNumberB = input('请输入数字B：')\n",
    "    operation = Operation()\n",
    "    strResult = str(operation.calculate(float(strNumberA),float(strNumberB),operate))\n",
    "    print(\"结果是：\"+strResult)\n",
    "except Exception as exp:\n",
    "    print(\"您的输入有错：\")\n",
    "    print(exp)"
   ]
  },
  {
   "cell_type": "markdown",
   "metadata": {},
   "source": [
    "### 1.9 紧耦合vs松耦合"
   ]
  },
  {
   "cell_type": "code",
   "execution_count": null,
   "metadata": {},
   "outputs": [],
   "source": [
    "class Operation(object):\n",
    "    __numberA = 0\n",
    "    __numberB = 0\n",
    "    def get_numberA(self):\n",
    "        return self.__numberA\n",
    "    def set_numberA(self,numberA):\n",
    "        self.__numberA = numberA\n",
    "    def get_numberB(self):\n",
    "        return self.__numberB\n",
    "    def set_numberB(self,numberB):\n",
    "        self.__numberB = numberB\n",
    "    def get_result():\n",
    "        result = 0\n",
    "        return result\n",
    "    numberA = property(get_numberA,set_numberA)\n",
    "    numberB = property(get_numberB,set_numberB)\n"
   ]
  },
  {
   "cell_type": "code",
   "execution_count": null,
   "metadata": {},
   "outputs": [],
   "source": [
    "class OperationAdd(Operation):\n",
    "    def get_result(self):\n",
    "        result = self.numberA + self.numberB\n",
    "        return result\n",
    "\n",
    "class OperationSub(Operation):\n",
    "    def get_result(self):\n",
    "        result = self.numberA - self.numberB\n",
    "        return result\n",
    "\n",
    "class OperationMul(Operation):\n",
    "    def get_result(self):\n",
    "        result = self.numberA * self.numberB\n",
    "        return result\n",
    "\n",
    "class OperationDiv(Operation):\n",
    "    def get_result(self):\n",
    "        if self.numberB == 0:\n",
    "            raise Exception(\"除数不能为0\")\n",
    "        result = self.numberA / self.numberB\n",
    "        return result"
   ]
  },
  {
   "cell_type": "markdown",
   "metadata": {},
   "source": [
    "### 1.10 简单工厂模式"
   ]
  },
  {
   "cell_type": "code",
   "execution_count": null,
   "metadata": {},
   "outputs": [],
   "source": [
    "class OperationFactory(object):\n",
    "    def createOperate(self,operate):\n",
    "        if operate == \"+\":\n",
    "            self.oper = OperationAdd()\n",
    "        elif operate == \"-\":\n",
    "            self.oper = OperationSub()\n",
    "        elif operate == \"*\":\n",
    "            self.oper = OperationMul()\n",
    "        elif operate == \"/\":\n",
    "            self.oper = OperationDiv()\n",
    "        return self.oper"
   ]
  },
  {
   "cell_type": "code",
   "execution_count": null,
   "metadata": {},
   "outputs": [
    {
     "data": {
      "text/plain": [
       "3"
      ]
     },
     "metadata": {},
     "output_type": "display_data"
    }
   ],
   "source": [
    "oper = OperationFactory().createOperate(\"+\")\n",
    "oper.numberA = 1\n",
    "oper.numberB = 2\n",
    "result = oper.get_result()"
   ]
  }
 ],
 "metadata": {
  "kernelspec": {
   "display_name": "python3.7",
   "language": "python",
   "name": "py37"
  },
  "language_info": {
   "codemirror_mode": {
    "name": "ipython",
    "version": 3
   },
   "file_extension": ".py",
   "mimetype": "text/x-python",
   "name": "python",
   "nbconvert_exporter": "python",
   "pygments_lexer": "ipython3",
   "version": "3.7.0"
  },
  "orig_nbformat": 4,
  "vscode": {
   "interpreter": {
    "hash": "fc63bdefa82b0e52e69d7b55bf4f4ec43d4fb7e45aa97b7564c8adf5462c5604"
   }
  }
 },
 "nbformat": 4,
 "nbformat_minor": 2
}
