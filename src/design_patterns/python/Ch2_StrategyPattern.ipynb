{
 "cells": [
  {
   "cell_type": "markdown",
   "metadata": {},
   "source": [
    "## 2 策略模式（Strategy Pattern）\n",
    "author:SheltonXiao    \n",
    "2022/9/22"
   ]
  },
  {
   "cell_type": "markdown",
   "metadata": {},
   "source": [
    "### 2.1 商场收银模式"
   ]
  },
  {
   "cell_type": "code",
   "execution_count": 3,
   "metadata": {},
   "outputs": [],
   "source": [
    "import tkinter"
   ]
  },
  {
   "cell_type": "code",
   "execution_count": 4,
   "metadata": {},
   "outputs": [],
   "source": [
    "class CashWindow(object):\n",
    "    def __init__(self):\n",
    "        self.total = 0\n",
    "        root = tkinter.Tk()\n",
    "        self.label1 = tkinter.Label(root,text=\"单价：\")\n",
    "        self.txtPrice = tkinter.Entry(root)\n",
    "        self.label2 = tkinter.Label(root,text=\"数量：\")\n",
    "        self.txtNum = tkinter.Entry(root)\n",
    "        self.ibxList = tkinter.Text(root,width = 35,height = 10)\n",
    "        self.label3 = tkinter.Label(root,text=\"总计：\")\n",
    "        \n",
    "        self.iblResult = tkinter.StringVar()\n",
    "        self.iblResult.set(\"%.2f\"%self.total)\n",
    "        self.result = tkinter.Label(root,textvariable=self.iblResult, height = 2, font = ('TimeNewsRoman',24))\n",
    "        self.button = tkinter.Button(root,text=\"确定\",width = 10,command = self.btnOk_click)\n",
    "        self.buttonReset = tkinter.Button(root,text=\"重置\",width = 10,command = self.btnReset_click)\n",
    "        self.layout()\n",
    "        root.mainloop()\n",
    "    \n",
    "    def refresh(self):\n",
    "        self.txtPrice.delete('0','end')\n",
    "        self.txtNum.delete('0','end')\n",
    "\n",
    "    def layout(self):\n",
    "        self.label1.grid(row = 0, column = 0, padx = (10,0), pady = 10)\n",
    "        self.txtPrice.grid(row = 0, column = 1, pady = 10,padx = (0,5),)\n",
    "        self.label2.grid(row = 1, column = 0, padx = (10,0))\n",
    "        self.txtNum.grid(row = 1, column = 1,padx = (0,5),)\n",
    "        self.ibxList.grid(row = 3, column = 0,columnspan = 4,padx = (5,5),pady = 10)\n",
    "        self.label3.grid(row = 4, column = 0, padx = (10,0))\n",
    "        self.result.grid(row = 4, column = 1,columnspan = 3, rowspan = 2)\n",
    "        self.button.grid(row = 0, column = 2, columnspan = 2,pady = 10,  padx = (0,10))\n",
    "        self.buttonReset.grid(row = 1, column = 2, columnspan = 2, padx = (0,10))\n",
    "\n",
    "    def btnReset_click(self):\n",
    "        self.total = 0\n",
    "        self.ibxList.delete('1.0','end')\n",
    "        self.iblResult.set(\"%.2f\"%self.total)\n",
    "        self.refresh()\n",
    "\n",
    "    # 主要部分\n",
    "    def btnOk_click(self):\n",
    "        totalPrice = float(self.txtPrice.get()) * float(self.txtNum.get())\n",
    "        self.total = self.total + totalPrice\n",
    "        self.ibxList.insert('end',\"单价：\"+self.txtPrice.get()+\" 数量：\"\n",
    "                            +self.txtNum.get()+\" 合计：%.2f\"%(totalPrice)+\"\\n\")\n",
    "        self.iblResult.set(\"%.2f\"%self.total)\n",
    "        self.refresh()\n",
    "\n"
   ]
  },
  {
   "cell_type": "code",
   "execution_count": 5,
   "metadata": {},
   "outputs": [
    {
     "data": {
      "text/plain": [
       "<__main__.CashWindow at 0x1ad7dcab908>"
      ]
     },
     "execution_count": 5,
     "metadata": {},
     "output_type": "execute_result"
    }
   ],
   "source": [
    "CashWindow()"
   ]
  },
  {
   "cell_type": "markdown",
   "metadata": {},
   "source": [
    "### 2.2 增加打折"
   ]
  },
  {
   "cell_type": "code",
   "execution_count": 6,
   "metadata": {},
   "outputs": [],
   "source": [
    "import tkinter.ttk"
   ]
  },
  {
   "cell_type": "code",
   "execution_count": 7,
   "metadata": {},
   "outputs": [],
   "source": [
    "class CashWindow(object):\n",
    "    def __init__(self):\n",
    "        self.total = 0\n",
    "        root = tkinter.Tk()\n",
    "        self.label1 = tkinter.Label(root,text=\"单价：\")\n",
    "        self.txtPrice = tkinter.Entry(root,width = 24,)\n",
    "        self.label2 = tkinter.Label(root,text=\"数量：\")\n",
    "        self.txtNum = tkinter.Entry(root,width = 24,)\n",
    "        self.ibxList = tkinter.Text(root,width = 45, height = 10)\n",
    "        self.label4 = tkinter.Label(root,text=\"总计：\")\n",
    "        \n",
    "        self.iblResult = tkinter.StringVar()\n",
    "        self.iblResult.set(\"%.2f\"%self.total)\n",
    "        self.result = tkinter.Label(root,textvariable=self.iblResult, height = 2, font = ('TimeNewsRoman',24))\n",
    "        self.button = tkinter.Button(root,text=\"确定\",width = 10,command = self.btnOk_click)\n",
    "        self.buttonReset = tkinter.Button(root,text=\"重置\",width = 10,command = self.btnReset_click)\n",
    "\n",
    "        self.label3 = tkinter.Label(root,text=\"计算方式：\")\n",
    "        self.comboVar = tkinter.StringVar()\n",
    "        self.combobox = tkinter.ttk.Combobox(root, textvariable = self.comboVar,width = 22,)\n",
    "        self.combobox['value'] = (\"正常收费\",\"打8折\",\"打7折\",\"打5折\")\n",
    "        self.combobox.current(0)\n",
    "        self.layout()\n",
    "        root.mainloop()\n",
    "    \n",
    "    def refresh(self):\n",
    "        self.txtPrice.delete('0','end')\n",
    "        self.txtNum.delete('0','end')\n",
    "\n",
    "    def layout(self):\n",
    "        self.label1.grid(row = 0, column = 0, padx = (10,0), pady = 10)\n",
    "        self.txtPrice.grid(row = 0, column = 1, pady = 10,padx = (0,5),)\n",
    "        self.label2.grid(row = 1, column = 0, padx = (10,0))\n",
    "        self.txtNum.grid(row = 1, column = 1,padx = (0,5),)\n",
    "        self.label3.grid(row = 2, column = 0, padx = (10,0))\n",
    "        self.combobox.grid(row = 2, column = 1,padx = (0,5),pady = 10)\n",
    "\n",
    "        self.ibxList.grid(row = 4, column = 0,columnspan = 4,padx = (5,5),pady = 10)\n",
    "        self.label4.grid(row = 5, column = 0, padx = (10,0))\n",
    "        self.result.grid(row = 5, column = 1,columnspan = 3, rowspan = 2)\n",
    "        self.button.grid(row = 0, column = 2, columnspan = 2,pady = 10,  padx = (0,10))\n",
    "        self.buttonReset.grid(row = 1, column = 2, columnspan = 2, padx = (0,10))\n",
    "\n",
    "    def btnReset_click(self):\n",
    "        self.total = 0\n",
    "        self.ibxList.delete('1.0','end')\n",
    "        self.iblResult.set(\"%.2f\"%self.total)\n",
    "        self.refresh()\n",
    "\n",
    "    # 主要部分\n",
    "    def btnOk_click(self):\n",
    "        if self.comboVar.get() == \"正常收费\":\n",
    "            totalPrice = float(self.txtPrice.get()) * float(self.txtNum.get())\n",
    "        elif self.comboVar.get() == \"打8折\":\n",
    "            totalPrice = float(self.txtPrice.get()) * float(self.txtNum.get()) * 0.8\n",
    "        elif self.comboVar.get() == \"打7折\":\n",
    "            totalPrice = float(self.txtPrice.get()) * float(self.txtNum.get()) * 0.7\n",
    "        elif self.comboVar.get() == \"打5折\":\n",
    "            totalPrice = float(self.txtPrice.get()) * float(self.txtNum.get()) * 0.5\n",
    "        self.total = self.total + totalPrice\n",
    "        self.ibxList.insert('end',\"单价：\"+self.txtPrice.get()+\" 数量：\"\n",
    "                            +self.txtNum.get()+\" \"+self.comboVar.get()+\" 合计：%.2f\"%(totalPrice)+\"\\n\")\n",
    "        self.iblResult.set(\"%.2f\"%self.total)\n",
    "        self.refresh()\n",
    "\n"
   ]
  },
  {
   "cell_type": "code",
   "execution_count": 8,
   "metadata": {},
   "outputs": [
    {
     "data": {
      "text/plain": [
       "<__main__.CashWindow at 0x1ad7dd872e8>"
      ]
     },
     "execution_count": 8,
     "metadata": {},
     "output_type": "execute_result"
    }
   ],
   "source": [
    "CashWindow()"
   ]
  },
  {
   "cell_type": "markdown",
   "metadata": {},
   "source": [
    "### 2.3 简单工厂实现"
   ]
  },
  {
   "cell_type": "code",
   "execution_count": 9,
   "metadata": {},
   "outputs": [],
   "source": [
    "import math"
   ]
  },
  {
   "cell_type": "markdown",
   "metadata": {},
   "source": [
    "现金收费抽象类"
   ]
  },
  {
   "cell_type": "code",
   "execution_count": 10,
   "metadata": {},
   "outputs": [],
   "source": [
    "class CashSuper(object):\n",
    "    def __init__(self):\n",
    "        pass\n",
    "    def accept_cash(self,money):\n",
    "        pass"
   ]
  },
  {
   "cell_type": "markdown",
   "metadata": {},
   "source": [
    "收费子类"
   ]
  },
  {
   "cell_type": "code",
   "execution_count": 11,
   "metadata": {},
   "outputs": [],
   "source": [
    "# 正常收费\n",
    "class CashNormal(CashSuper):\n",
    "    def accept_cash(self,money):\n",
    "        return money\n",
    "\n",
    "# 打折收费\n",
    "class CashRebate(CashSuper):\n",
    "    __moneyRebate = 1\n",
    "    def cash_rebate(self,moneyRebateStr):\n",
    "        self.__moneyRebate = float(moneyRebateStr)\n",
    "    def accept_cash(self,money):\n",
    "        return money*self.__moneyRebate\n",
    "\n",
    "# 返利收费\n",
    "class CashReturn(CashSuper):\n",
    "    __moneyCondition = 0\n",
    "    __moneyReturn = 0\n",
    "    def cash_return(self,moneyConditionStr,moneyReturnStr):\n",
    "        self.__moneyCondition = float(moneyConditionStr)\n",
    "        self.__moneyReturn = float(moneyReturnStr)\n",
    "    def accept_cash(self,money):\n",
    "        result = money\n",
    "        if (money >= self.__moneyCondition):\n",
    "            result = money - money // self.__moneyCondition * self.__moneyReturn\n",
    "        return result"
   ]
  },
  {
   "cell_type": "markdown",
   "metadata": {},
   "source": [
    "现金收费工厂类"
   ]
  },
  {
   "cell_type": "code",
   "execution_count": 12,
   "metadata": {},
   "outputs": [],
   "source": [
    "class CashFactory(object):\n",
    "    def create_cash_accept(self,typ):\n",
    "        cs = CashSuper()\n",
    "        if typ == \"正常收费\":\n",
    "            cs = CashNormal()\n",
    "        elif typ == \"满300返100\":\n",
    "            cs = CashReturn()\n",
    "            cs.cash_return(\"300\",\"100\")\n",
    "        elif typ == \"打8折\":\n",
    "            cs = CashRebate()\n",
    "            cs.cash_rebate(\"0.8\")\n",
    "        return cs"
   ]
  },
  {
   "cell_type": "markdown",
   "metadata": {},
   "source": [
    "客户端代码"
   ]
  },
  {
   "cell_type": "code",
   "execution_count": 13,
   "metadata": {},
   "outputs": [],
   "source": [
    "class CashWindow(object):\n",
    "    def __init__(self):\n",
    "        self.total = 0\n",
    "        root = tkinter.Tk()\n",
    "        self.label1 = tkinter.Label(root,text=\"单价：\")\n",
    "        self.txtPrice = tkinter.Entry(root,width = 24,)\n",
    "        self.label2 = tkinter.Label(root,text=\"数量：\")\n",
    "        self.txtNum = tkinter.Entry(root,width = 24,)\n",
    "        self.ibxList = tkinter.Text(root,width = 45, height = 10)\n",
    "        self.label4 = tkinter.Label(root,text=\"总计：\")\n",
    "        \n",
    "        self.iblResult = tkinter.StringVar()\n",
    "        self.iblResult.set(\"%.2f\"%self.total)\n",
    "        self.result = tkinter.Label(root,textvariable=self.iblResult, height = 2, font = ('TimeNewsRoman',24))\n",
    "        self.button = tkinter.Button(root,text=\"确定\",width = 10,command = self.btnOk_click)\n",
    "        self.buttonReset = tkinter.Button(root,text=\"重置\",width = 10,command = self.btnReset_click)\n",
    "\n",
    "        self.label3 = tkinter.Label(root,text=\"计算方式：\")\n",
    "        self.comboVar = tkinter.StringVar()\n",
    "        self.combobox = tkinter.ttk.Combobox(root, textvariable = self.comboVar,width = 22,)\n",
    "        self.combobox['value'] = (\"正常收费\",\"打8折\",\"满300返100\")\n",
    "        self.combobox.current(0)\n",
    "        self.layout()\n",
    "        root.mainloop()\n",
    "       \n",
    "    def refresh(self):\n",
    "        self.txtPrice.delete('0','end')\n",
    "        self.txtNum.delete('0','end')\n",
    "\n",
    "    def layout(self):\n",
    "        self.label1.grid(row = 0, column = 0, padx = (10,0), pady = 10)\n",
    "        self.txtPrice.grid(row = 0, column = 1, pady = 10,padx = (0,5),)\n",
    "        self.label2.grid(row = 1, column = 0, padx = (10,0))\n",
    "        self.txtNum.grid(row = 1, column = 1,padx = (0,5),)\n",
    "        self.label3.grid(row = 2, column = 0, padx = (10,0))\n",
    "        self.combobox.grid(row = 2, column = 1,padx = (0,5),pady = 10)\n",
    "\n",
    "        self.ibxList.grid(row = 4, column = 0,columnspan = 4,padx = (5,5),pady = 10)\n",
    "        self.label4.grid(row = 5, column = 0, padx = (10,0))\n",
    "        self.result.grid(row = 5, column = 1,columnspan = 3, rowspan = 2)\n",
    "        self.button.grid(row = 0, column = 2, columnspan = 2,pady = 10,  padx = (0,10))\n",
    "        self.buttonReset.grid(row = 1, column = 2, columnspan = 2, padx = (0,10))\n",
    "\n",
    "    def btnReset_click(self):\n",
    "        self.total = 0\n",
    "        self.ibxList.delete('1.0','end')\n",
    "        self.iblResult.set(\"%.2f\"%self.total)\n",
    "        self.refresh()\n",
    "\n",
    "    # 主要部分\n",
    "    def btnOk_click(self):\n",
    "        csuper = CashFactory().create_cash_accept(self.comboVar.get())\n",
    "        totalPrice = csuper.accept_cash(float(self.txtPrice.get()) * float(self.txtNum.get()))\n",
    "        self.total = self.total + totalPrice\n",
    "        self.ibxList.insert('end',\"单价：\"+self.txtPrice.get()+\" 数量：\"\n",
    "                            +self.txtNum.get()+\" \"+self.comboVar.get()+\" 合计：%.2f\"%(totalPrice)+\"\\n\")\n",
    "        self.iblResult.set(\"%.2f\"%self.total)\n",
    "        self.refresh()"
   ]
  },
  {
   "cell_type": "code",
   "execution_count": 14,
   "metadata": {},
   "outputs": [
    {
     "data": {
      "text/plain": [
       "<__main__.CashWindow at 0x1ad7dcab8d0>"
      ]
     },
     "execution_count": 14,
     "metadata": {},
     "output_type": "execute_result"
    }
   ],
   "source": [
    "CashWindow()"
   ]
  },
  {
   "cell_type": "markdown",
   "metadata": {},
   "source": [
    "### 2.5 策略模式实现"
   ]
  },
  {
   "cell_type": "markdown",
   "metadata": {},
   "source": [
    "Strategy类，定义所有支持算法的公共接口"
   ]
  },
  {
   "cell_type": "code",
   "execution_count": 15,
   "metadata": {},
   "outputs": [],
   "source": [
    "class Strategy(object):\n",
    "    def algorithm_interface(self):\n",
    "        pass"
   ]
  },
  {
   "cell_type": "markdown",
   "metadata": {},
   "source": [
    "ConcreteStrategy，封装了具体的算法或行为"
   ]
  },
  {
   "cell_type": "code",
   "execution_count": 16,
   "metadata": {},
   "outputs": [],
   "source": [
    "class ConcreteStrategyA(Strategy):\n",
    "    def algorithm_interface(self):\n",
    "        print(\"算法A实现\")\n",
    "\n",
    "class ConcreteStrategyB(Strategy):\n",
    "    def algorithm_interface(self):\n",
    "        print(\"算法B实现\")\n",
    "\n",
    "class ConcreteStrategyC(Strategy):\n",
    "    def algorithm_interface(self):\n",
    "        print(\"算法C实现\")"
   ]
  },
  {
   "cell_type": "markdown",
   "metadata": {},
   "source": [
    "Context，维护对Strategy对象的引用"
   ]
  },
  {
   "cell_type": "code",
   "execution_count": 17,
   "metadata": {},
   "outputs": [],
   "source": [
    "class Context(object):\n",
    "    def __init__(self,strategy):\n",
    "        self.strategy = strategy\n",
    "    def context_interface(self):\n",
    "        self.strategy.algorithm_interface()"
   ]
  },
  {
   "cell_type": "markdown",
   "metadata": {},
   "source": [
    "客户端代码"
   ]
  },
  {
   "cell_type": "code",
   "execution_count": 18,
   "metadata": {},
   "outputs": [
    {
     "name": "stdout",
     "output_type": "stream",
     "text": [
      "算法A实现\n"
     ]
    }
   ],
   "source": [
    "context = Context(ConcreteStrategyA())\n",
    "context.context_interface()"
   ]
  },
  {
   "cell_type": "code",
   "execution_count": 19,
   "metadata": {},
   "outputs": [
    {
     "name": "stdout",
     "output_type": "stream",
     "text": [
      "算法B实现\n"
     ]
    }
   ],
   "source": [
    "context = Context(ConcreteStrategyB())\n",
    "context.context_interface()"
   ]
  },
  {
   "cell_type": "code",
   "execution_count": 20,
   "metadata": {},
   "outputs": [
    {
     "name": "stdout",
     "output_type": "stream",
     "text": [
      "算法C实现\n"
     ]
    }
   ],
   "source": [
    "context = Context(ConcreteStrategyC())\n",
    "context.context_interface()"
   ]
  },
  {
   "cell_type": "markdown",
   "metadata": {},
   "source": [
    "### 2.6 策略与简单工厂结合"
   ]
  },
  {
   "cell_type": "markdown",
   "metadata": {},
   "source": [
    "改造后的CashContext"
   ]
  },
  {
   "cell_type": "code",
   "execution_count": 21,
   "metadata": {},
   "outputs": [],
   "source": [
    "class CashContext(object):\n",
    "    def __init__(self,typ):\n",
    "        self.cs = CashSuper()\n",
    "        if typ == \"正常收费\":\n",
    "            self.cs = CashNormal()\n",
    "        elif typ == \"满300返100\":\n",
    "            self.cs = CashReturn()\n",
    "            self.cs.cash_return(\"300\",\"100\")\n",
    "        elif typ == \"打8折\":\n",
    "            self.cs = CashRebate()\n",
    "            self.cs.cash_rebate(\"0.8\")\n",
    "        \n",
    "    def get_result(self,money):\n",
    "        return self.cs.accept_cash(money)"
   ]
  },
  {
   "cell_type": "markdown",
   "metadata": {},
   "source": [
    "客户端代码"
   ]
  },
  {
   "cell_type": "code",
   "execution_count": 22,
   "metadata": {},
   "outputs": [],
   "source": [
    "class CashWindow(object):\n",
    "    def __init__(self):\n",
    "        self.total = 0\n",
    "        root = tkinter.Tk()\n",
    "        self.label1 = tkinter.Label(root,text=\"单价：\")\n",
    "        self.txtPrice = tkinter.Entry(root,width = 24,)\n",
    "        self.label2 = tkinter.Label(root,text=\"数量：\")\n",
    "        self.txtNum = tkinter.Entry(root,width = 24,)\n",
    "        self.ibxList = tkinter.Text(root,width = 45, height = 10)\n",
    "        self.label4 = tkinter.Label(root,text=\"总计：\")\n",
    "        \n",
    "        self.iblResult = tkinter.StringVar()\n",
    "        self.iblResult.set(\"%.2f\"%self.total)\n",
    "        self.result = tkinter.Label(root,textvariable=self.iblResult, height = 2, font = ('TimeNewsRoman',24))\n",
    "        self.button = tkinter.Button(root,text=\"确定\",width = 10,command = self.btnOk_click)\n",
    "        self.buttonReset = tkinter.Button(root,text=\"重置\",width = 10,command = self.btnReset_click)\n",
    "\n",
    "        self.label3 = tkinter.Label(root,text=\"计算方式：\")\n",
    "        self.comboVar = tkinter.StringVar()\n",
    "        self.combobox = tkinter.ttk.Combobox(root, textvariable = self.comboVar,width = 22,)\n",
    "        self.combobox['value'] = (\"正常收费\",\"打8折\",\"满300返100\")\n",
    "        self.combobox.current(0)\n",
    "        self.layout()\n",
    "        root.mainloop()\n",
    "       \n",
    "    def refresh(self):\n",
    "        self.txtPrice.delete('0','end')\n",
    "        self.txtNum.delete('0','end')\n",
    "\n",
    "    def layout(self):\n",
    "        self.label1.grid(row = 0, column = 0, padx = (10,0), pady = 10)\n",
    "        self.txtPrice.grid(row = 0, column = 1, pady = 10,padx = (0,5),)\n",
    "        self.label2.grid(row = 1, column = 0, padx = (10,0))\n",
    "        self.txtNum.grid(row = 1, column = 1,padx = (0,5),)\n",
    "        self.label3.grid(row = 2, column = 0, padx = (10,0))\n",
    "        self.combobox.grid(row = 2, column = 1,padx = (0,5),pady = 10)\n",
    "\n",
    "        self.ibxList.grid(row = 4, column = 0,columnspan = 4,padx = (5,5),pady = 10)\n",
    "        self.label4.grid(row = 5, column = 0, padx = (10,0))\n",
    "        self.result.grid(row = 5, column = 1,columnspan = 3, rowspan = 2)\n",
    "        self.button.grid(row = 0, column = 2, columnspan = 2,pady = 10,  padx = (0,10))\n",
    "        self.buttonReset.grid(row = 1, column = 2, columnspan = 2, padx = (0,10))\n",
    "\n",
    "    def btnReset_click(self):\n",
    "        self.total = 0\n",
    "        self.ibxList.delete('1.0','end')\n",
    "        self.iblResult.set(\"%.2f\"%self.total)\n",
    "        self.refresh()\n",
    "\n",
    "    # 主要部分\n",
    "    def btnOk_click(self):\n",
    "        csuper = CashContext(self.comboVar.get())\n",
    "        totalPrice = csuper.get_result(float(self.txtPrice.get()) * float(self.txtNum.get()))\n",
    "        self.total = self.total + totalPrice\n",
    "        self.ibxList.insert('end',\"单价：\"+self.txtPrice.get()+\" 数量：\"\n",
    "                            +self.txtNum.get()+\" \"+self.comboVar.get()+\" 合计：%.2f\"%(totalPrice)+\"\\n\")\n",
    "        self.iblResult.set(\"%.2f\"%self.total)\n",
    "        self.refresh()"
   ]
  },
  {
   "cell_type": "code",
   "execution_count": 23,
   "metadata": {},
   "outputs": [
    {
     "data": {
      "text/plain": [
       "<__main__.CashWindow at 0x1ad7dde9eb8>"
      ]
     },
     "execution_count": 23,
     "metadata": {},
     "output_type": "execute_result"
    }
   ],
   "source": [
    "CashWindow()"
   ]
  }
 ],
 "metadata": {
  "kernelspec": {
   "display_name": "python3.7",
   "language": "python",
   "name": "py37"
  },
  "language_info": {
   "codemirror_mode": {
    "name": "ipython",
    "version": 3
   },
   "file_extension": ".py",
   "mimetype": "text/x-python",
   "name": "python",
   "nbconvert_exporter": "python",
   "pygments_lexer": "ipython3",
   "version": "3.7.0"
  },
  "orig_nbformat": 4,
  "vscode": {
   "interpreter": {
    "hash": "fc63bdefa82b0e52e69d7b55bf4f4ec43d4fb7e45aa97b7564c8adf5462c5604"
   }
  }
 },
 "nbformat": 4,
 "nbformat_minor": 2
}
